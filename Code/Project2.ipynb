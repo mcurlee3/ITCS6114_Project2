{
  "nbformat": 4,
  "nbformat_minor": 0,
  "metadata": {
    "colab": {
      "name": "Project2.ipynb",
      "provenance": [],
      "collapsed_sections": []
    },
    "kernelspec": {
      "name": "python3",
      "display_name": "Python 3"
    },
    "language_info": {
      "name": "python"
    }
  },
  "cells": [
    {
      "cell_type": "markdown",
      "source": [
        "##ITCS-6114 Project 2 - M.B.Curlee\n",
        "This project demonstrates some algorithm fundamentals including:\n",
        "1. Singles-source shortest path algorithm\n",
        "2. Minimum Spanning Tree (MST)\n",
        "3. Strongly Connected Components (SSCs)"
      ],
      "metadata": {
        "id": "sYXjefKD57bp"
      }
    },
    {
      "cell_type": "markdown",
      "source": [
        "I chose to demonstrate this process in jupyter notebook as this provides a viable and clean way to both display code and describe the implementation. Examples were implemented from demonstrated algorithms in class. "
      ],
      "metadata": {
        "id": "Ns3SrcjWTHhh"
      }
    },
    {
      "cell_type": "markdown",
      "source": [
        "The raw code for my implementation can be be at: \n",
        "1.  https://github.com/mcurlee3/ITCS6114_Project2\n",
        "2.  https://colab.research.google.com/drive/1P1nUgikbu-RyVatybkWcpgnabckQDE5K#scrollTo=81wO0t5oeIj4"
      ],
      "metadata": {
        "id": "81wO0t5oeIj4"
      }
    },
    {
      "cell_type": "markdown",
      "source": [
        "----Imports-----"
      ],
      "metadata": {
        "id": "5GPlO3NgUhfc"
      }
    },
    {
      "cell_type": "code",
      "source": [
        "import os\n",
        "cwd = os.getcwd()\n",
        "print(cwd)"
      ],
      "metadata": {
        "colab": {
          "base_uri": "https://localhost:8080/"
        },
        "id": "JJh2qHB77dk8",
        "outputId": "4ac2870b-d002-4ecf-d0a4-a5349482fc25"
      },
      "execution_count": 1,
      "outputs": [
        {
          "output_type": "stream",
          "name": "stdout",
          "text": [
            "/content\n"
          ]
        }
      ]
    },
    {
      "cell_type": "code",
      "source": [
        "from google.colab import drive\n",
        "drive.mount('/content/gdrive')"
      ],
      "metadata": {
        "colab": {
          "base_uri": "https://localhost:8080/"
        },
        "id": "2LMh3ehr7iAe",
        "outputId": "0ae2ce67-6227-4385-9563-c501c5cdd5f5"
      },
      "execution_count": 2,
      "outputs": [
        {
          "output_type": "stream",
          "name": "stdout",
          "text": [
            "Mounted at /content/gdrive\n"
          ]
        }
      ]
    },
    {
      "cell_type": "code",
      "execution_count": 3,
      "metadata": {
        "id": "SrkTQ09E534s"
      },
      "outputs": [],
      "source": [
        "from collections import defaultdict\n",
        "import sys\n",
        "import time\n",
        "import pandas as pd\n",
        "#from Dykstra import dGraph\n",
        "#from Kruskal import kGraph"
      ]
    },
    {
      "cell_type": "markdown",
      "source": [
        "Module provided for parsing the text file style graphs. "
      ],
      "metadata": {
        "id": "IbWBZ2tFUntP"
      }
    },
    {
      "cell_type": "code",
      "source": [
        "def parseText(txtFile):\n",
        "    lst = []\n",
        "    for line in txtFile:\n",
        "        x = line.split()\n",
        "        lst.append(x)\n",
        "    stats = lst.pop(0)\n",
        "    src = lst.pop()\n",
        "    lst = [lst, stats, src]\n",
        "    return lst"
      ],
      "metadata": {
        "id": "PFt4OXcS6KzW"
      },
      "execution_count": 4,
      "outputs": []
    },
    {
      "cell_type": "markdown",
      "source": [
        "Problem 1: Single-source Shortest Path Algorithm\n",
        "\n",
        "Find shortest path tree in both directed and undirected weighted graphs for a given source vertex. Assume there is no negative edge in your graph. You will print each path and path cost for a given source."
      ],
      "metadata": {
        "id": "bnBJ8F2zUvLy"
      }
    },
    {
      "cell_type": "markdown",
      "source": [
        "I chose several graphs from the internet that looked visually interesting. I then transposed them into text files attached to this implementation and resembling the following, with line 1 indicating the number of vertices, edges and U or D to describe directed or undirected. The middle lines contain the starting node, the ending node and the weight/distance between. The final line is the starting node. "
      ],
      "metadata": {
        "id": "dXkDRj5HWygt"
      }
    },
    {
      "cell_type": "markdown",
      "source": [
        "#samp1.txt\n"
      ],
      "metadata": {
        "id": "bC5PKJRQXk8f"
      }
    },
    {
      "cell_type": "code",
      "source": [
        "18 27 U\n",
        "A B 6\n",
        "A G 2\n",
        "A F 5\n",
        "B H 3\n",
        "B C 7\n",
        "C I 2\n",
        "C D 6\n",
        "D J 3\n",
        "D E 5\n",
        "E K 2\n",
        "E F 6\n",
        "F L 3\n",
        "G N 4\n",
        "G R 4\n",
        "H M 3\n",
        "H O 4\n",
        "I N 3\n",
        "I P 4\n",
        "J O 2\n",
        "J Q 3\n",
        "K P 3\n",
        "K R 2\n",
        "L Q 3\n",
        "L M 3\n",
        "M P 5\n",
        "N Q 4\n",
        "O R 5\n",
        "A"
      ],
      "metadata": {
        "id": "c5x0Hh2sX6wD"
      },
      "execution_count": null,
      "outputs": []
    },
    {
      "cell_type": "markdown",
      "source": [
        "##Dikstra\n",
        "Dikstra's algorithm provides a clean method for determining the shortest path from a starting node and any other node, by traversing the lowest cost path. The idea is to continiously calculate the shortest distance from start to end, while excluding longer distances/weights when making updates. The algorithm works as follows:\n",
        "\n",
        "\n",
        "1. Initialization of all nodes with distance \"infinite\"; initialization of the starting node with 0\n",
        "2. Marking of the distance of the starting node as permanent, all other distances as temporarily.\n",
        "3. Setting of starting node as active.\n",
        "4. Calculation of the temporary distances of all neighbour nodes of the active node by summing up its distance with the weights of the edges.\n",
        "5. If such a calculated distance of a node is smaller as the current one, update the distance and set the current node as antecessor. This step is also called update and is Dijkstra's central idea.\n",
        "6. Setting of the node with the minimal temporary distance as active. Mark its distance as permanent.\n",
        "7. Repeating of steps 4 to 7 until there aren't any nodes left with a permanent distance, which neighbours still have temporary distances.\n",
        "\n",
        "\n",
        "Dikstra's algorithm runs with an expected runtime of (m+n)(log(n)."
      ],
      "metadata": {
        "id": "kmC_R6TcU4Ei"
      }
    },
    {
      "cell_type": "markdown",
      "source": [
        "#My Implementation\n",
        "I chose to use python for my implementation as defaultdict(list) addapts nicely to the unequal size of internal lists. In this implementation, I could find no real measurable increase in time complexity with operations dedicated to creating or maintaining the lists. I found that many of the graphs I decided to use worked perfectly for this implementation. "
      ],
      "metadata": {
        "id": "xeR7rATXWPgz"
      }
    },
    {
      "cell_type": "code",
      "source": [
        "class dGraph:\n",
        "    def __init__(self, directed):\n",
        "        self.graph = defaultdict(list)\n",
        "        self.directed = directed\n",
        "\n",
        "    def addEdge(self, beg, end, wt):\n",
        "        self.graph[beg].append([end, wt])\n",
        "\n",
        "        if self.directed is False:\n",
        "            self.graph[end].append([beg, wt])\n",
        "        elif self.directed is True:\n",
        "            self.graph[end] = self.graph[end]\n",
        "\n",
        "    def find_min(self, dist, visited):\n",
        "        min = float('inf')\n",
        "        index = -1\n",
        "        for vert in self.graph.keys():\n",
        "            if visited[vert] is False and dist[vert] < min:\n",
        "                min = dist[vert]\n",
        "                index = vert\n",
        "\n",
        "        return index\n",
        "\n",
        "    def Dikstra(self, start):\n",
        "        visited = {i: False for i in self.graph}\n",
        "        dist = {i: float('inf') for i in self.graph}\n",
        "        parent = {i: None for i in self.graph}\n",
        "\n",
        "        dist[start] = 0\n",
        "\n",
        "        # find shortest path for all vertices\n",
        "        for i in range(len(self.graph) - 1):\n",
        "            u = self.find_min(dist, visited)\n",
        "            visited[u] = True\n",
        "            for v, w in self.graph[u]:\n",
        "\n",
        "                if visited[v] is False and dist[u] + w < dist[v]:\n",
        "                    dist[v] = dist[u] + w\n",
        "                    parent[v] = u\n",
        "        return parent, dist\n",
        "\n",
        "    def printPath(self, parent, v):\n",
        "        if parent[v] is None:\n",
        "            return\n",
        "        self.printPath(parent, parent[v])\n",
        "        print(v,end=\" \")\n",
        "\n",
        "    def printSolution(self, dist, parent, start):\n",
        "        print('{}\\t\\t{}\\t{}'.format('Vertex', 'Distance', 'Path'))\n",
        "\n",
        "        for i in self.graph.keys():\n",
        "            if i == start:\n",
        "                continue\n",
        "            if  dist[i]==float(\"inf\"):\n",
        "                continue\n",
        "            src = ord(start)-65\n",
        "            print('{} -> {}\\t\\t{}\\t\\t{}'.format(start, i, dist[i], start), end=' ')\n",
        "            self.printPath(parent, i)\n",
        "            print()"
      ],
      "metadata": {
        "id": "52GDDNp16VyL"
      },
      "execution_count": 5,
      "outputs": []
    },
    {
      "cell_type": "code",
      "source": [
        "def printDykstra():\n",
        "    print('###-------------Dykstra---------------###')\n",
        "    file1 = open('/content/gdrive/MyDrive/6114/Project2/samp1.txt', 'r')\n",
        "    file2 = open('/content/gdrive/MyDrive/6114/Project2/samp2.txt', 'r')\n",
        "    file3 = open('/content/gdrive/MyDrive/6114/Project2/samp3.txt', 'r')\n",
        "    file4 = open('/content/gdrive/MyDrive/6114/Project2/samp4.txt', 'r')\n",
        "\n",
        "    file1 = parseText(file1)\n",
        "    file2 = parseText(file2)\n",
        "    file3 = parseText(file3)\n",
        "    file4 = parseText(file4)\n",
        "\n",
        "    sample = [file1, file2, file3, file4]\n",
        "    for file in sample:\n",
        "        start = file.pop()\n",
        "        start = start[0]\n",
        "        stats = file.pop()\n",
        "        file = file[0]\n",
        "\n",
        "        if stats[2] == 'D':\n",
        "            directed = True\n",
        "            dir = 'Directed'\n",
        "        else:\n",
        "            directed = False\n",
        "            dir = 'Undirected'\n",
        "        graph = dGraph(directed)\n",
        "        for l in file:\n",
        "            graph.addEdge(l[0], l[1], int(l[2]))\n",
        "        print('Starting node for this ' + dir + ' graph is: ' + start)\n",
        "        startTime = time.time()\n",
        "        parent, dist = graph.Dikstra(start)\n",
        "\n",
        "        graph.printSolution(dist, parent, start)\n",
        "        runTime = (time.time() - startTime)*1000\n",
        "\n",
        "        print('The runtime for this graph took: ', runTime, ' microseconds')\n",
        "        print('***********************************************************')\n",
        "        print()"
      ],
      "metadata": {
        "id": "zIRFCT5H8LOu"
      },
      "execution_count": 15,
      "outputs": []
    },
    {
      "cell_type": "code",
      "source": [
        "printDykstra()"
      ],
      "metadata": {
        "colab": {
          "base_uri": "https://localhost:8080/"
        },
        "id": "ZDuNSyI78Ps3",
        "outputId": "dfaedbd1-051c-4ad3-e221-b1cd02900c60"
      },
      "execution_count": 11,
      "outputs": [
        {
          "output_type": "stream",
          "name": "stdout",
          "text": [
            "###-------------Dykstra---------------###\n",
            "Starting node for this Undirected graph is: A\n",
            "Vertex\t\tDistance\tPath\n",
            "A -> B\t\t6\t\tA B \n",
            "A -> G\t\t2\t\tA G \n",
            "A -> F\t\t5\t\tA F \n",
            "A -> H\t\t9\t\tA B H \n",
            "A -> C\t\t11\t\tA G N I C \n",
            "A -> I\t\t9\t\tA G N I \n",
            "A -> D\t\t15\t\tA G R K E D \n",
            "A -> J\t\t13\t\tA G N Q J \n",
            "A -> E\t\t10\t\tA G R K E \n",
            "A -> K\t\t8\t\tA G R K \n",
            "A -> L\t\t8\t\tA F L \n",
            "A -> N\t\t6\t\tA G N \n",
            "A -> R\t\t6\t\tA G R \n",
            "A -> M\t\t11\t\tA F L M \n",
            "A -> O\t\t11\t\tA G R O \n",
            "A -> P\t\t11\t\tA G R K P \n",
            "A -> Q\t\t10\t\tA G N Q \n",
            "The runtime for this graph took:  1.1081695556640625\n",
            "**************************************************\n",
            "\n",
            "Starting node for this Undirected graph is: A\n",
            "Vertex\t\tDistance\tPath\n",
            "A -> J\t\t30\t\tA J \n",
            "A -> I\t\t12\t\tA I \n",
            "A -> C\t\t20\t\tA C \n",
            "A -> B\t\t29\t\tA B \n",
            "A -> D\t\t47\t\tA C D \n",
            "A -> E\t\t38\t\tA C E \n",
            "A -> F\t\t49\t\tA I H F \n",
            "A -> G\t\t26\t\tA I G \n",
            "A -> H\t\t34\t\tA I H \n",
            "The runtime for this graph took:  0.3571510314941406\n",
            "**************************************************\n",
            "\n",
            "Starting node for this Undirected graph is: A\n",
            "Vertex\t\tDistance\tPath\n",
            "A -> B\t\t2\t\tA B \n",
            "A -> D\t\t10\t\tA D \n",
            "A -> C\t\t8\t\tA B C \n",
            "A -> E\t\t11\t\tA D E \n",
            "A -> F\t\t17\t\tA D E F \n",
            "A -> G\t\t21\t\tA D E H G \n",
            "A -> H\t\t18\t\tA D E H \n",
            "The runtime for this graph took:  0.3714561462402344\n",
            "**************************************************\n",
            "\n",
            "Starting node for this Directed graph is: A\n",
            "Vertex\t\tDistance\tPath\n",
            "A -> B\t\t3\t\tA B \n",
            "A -> C\t\t7\t\tA B C \n",
            "A -> D\t\t1\t\tA D \n",
            "A -> H\t\t8\t\tA B H \n",
            "A -> I\t\t12\t\tA D I \n",
            "A -> E\t\t9\t\tA D E \n",
            "A -> G\t\t11\t\tA D E G \n",
            "A -> F\t\t21\t\tA D F \n",
            "The runtime for this graph took:  0.3559589385986328\n",
            "**************************************************\n",
            "\n"
          ]
        }
      ]
    },
    {
      "cell_type": "markdown",
      "source": [
        "Problem 2: Minimum Spanning Tree Algorithm\n",
        "\n",
        "Given a connected, undirected, weighted graph, find a spanning tree using edges that minimizes the total weight. Use either Kruskal's or Prim's algorithm to find Minimum Spanning Tree (MST). You will printout edges of the tree and total cost of minimum spanning tree"
      ],
      "metadata": {
        "id": "ToPabHAnbdfK"
      }
    },
    {
      "cell_type": "markdown",
      "source": [
        "##Kruskal\n",
        "Kruskal's algorithm is stated as a greedy algorithm that finds local minimums in an attempt to find an overal global minimum for a spanning tree graph. \n",
        "\n",
        "We start from the edges with the lowest weight and keep adding edges until we reach our goal.\n",
        "\n",
        "The steps for implementing Kruskal's algorithm are as follows:\n",
        "\n",
        "1. Sort all the edges from low weight to high\n",
        "2. Take the edge with the lowest weight and add it to the spanning tree. If adding the edge created a cycle, then reject this edge.\n",
        "3. Keep adding edges until we reach all vertices.\n"
      ],
      "metadata": {
        "id": "ugxzyuVg8XF7"
      }
    },
    {
      "cell_type": "markdown",
      "source": [
        "##My Implementation\n",
        "I used the same setup for defaultdict(list) in this implementation as noted above. Here again I could find no real time complexity increase by using these lists, in terms of measured microseconds. Kruskal's runs with an expected time complexity of nlogn. I found that the graphs I chose for this project may have been too highly connected and may not have been a good representative of the overall capability of this algorithm."
      ],
      "metadata": {
        "id": "26AjR_NOalvx"
      }
    },
    {
      "cell_type": "code",
      "source": [
        "class kGraph:\n",
        "\n",
        "    def __init__(self, vertices):\n",
        "        self.V = int(vertices)\n",
        "        self.graph = []\n",
        "\n",
        "\n",
        "    def addEdge(self, u, v, w):\n",
        "        self.graph.append([u, v, w])\n",
        "\n",
        "    def find(self, parent, i):\n",
        "        if parent[i] == i:\n",
        "            return i\n",
        "        return self.find(parent, parent[i])\n",
        "\n",
        "    def union(self, parent, rank, x, y):\n",
        "        x_root = self.find(parent, x)\n",
        "        y_root = self.find(parent, y)\n",
        "\n",
        "        if rank[x_root] < rank[y_root]:\n",
        "            parent[x_root] = y_root\n",
        "        elif rank[x_root] > rank[y_root]:\n",
        "            parent[y_root] = x_root\n",
        "\n",
        "        else:\n",
        "            parent[y_root] = x_root\n",
        "            rank[x_root] += 1\n",
        "\n",
        "    def KruskalMST(self):\n",
        "\n",
        "        result = []\n",
        "        e = 0\n",
        "        i = 0\n",
        "        self.graph = sorted(self.graph, key=lambda x: x[2])\n",
        "\n",
        "        parent = []\n",
        "        rank = []\n",
        "\n",
        "        for node in range(self.V):\n",
        "            parent.append(node)\n",
        "            rank.append(0)\n",
        "        nodes = []\n",
        "        while e < self.V - 1:\n",
        "            nodes.append(chr(i+65))\n",
        "            u, v, w = self.graph[i]\n",
        "\n",
        "            i = i + 1\n",
        "            x = self.find(parent, u)\n",
        "            y = self.find(parent, v)\n",
        "\n",
        "            if x != y:\n",
        "                e = e + 1\n",
        "                result.append([u, v, w])\n",
        "                self.union(parent, rank, x, y)\n",
        "        print('This graph contained the following nodes:')\n",
        "        print(nodes)\n",
        "        print('\\033[1m' + \"Edge-Child \\t\\t Weight\" + '\\033[0m')\n",
        "        print()\n",
        "        res=0\n",
        "        for u, v, weight in result:\n",
        "            print(chr(u + 65), \"-\", chr(v + 65), \"\\t\\t\\t\", weight)\n",
        "            res+=weight\n",
        "        print('\\033[1m'+\"The total Cost for Minimum Spanning Tree is\", res,'\\033[0m')\n"
      ],
      "metadata": {
        "id": "xNGy9jI18Xy5"
      },
      "execution_count": 30,
      "outputs": []
    },
    {
      "cell_type": "code",
      "source": [
        "def printKruskal():\n",
        "    print('###------------Kruskal----------------###')\n",
        "    file1 = open('/content/gdrive/MyDrive/6114/Project2/samp1.txt', 'r')\n",
        "    file2 = open('/content/gdrive/MyDrive/6114/Project2/samp2.txt', 'r')\n",
        "    file3 = open('/content/gdrive/MyDrive/6114/Project2/samp3.txt', 'r')\n",
        "    file4 = open('/content/gdrive/MyDrive/6114/Project2/samp4.txt', 'r')\n",
        "\n",
        "    file1 = parseText(file1)\n",
        "    file2 = parseText(file2)\n",
        "    file3 = parseText(file3)\n",
        "    file4 = parseText(file4)\n",
        "\n",
        "    sample = [file1, file2, file3, file4]\n",
        "    for file in sample:\n",
        "        start = file.pop()\n",
        "        start = start[0]\n",
        "        stats = file.pop()\n",
        "        file = file[0]\n",
        "        numVert = stats[0]\n",
        "        graph = kGraph(numVert)\n",
        "        for l in file:\n",
        "            graph.addEdge(ord(l[0])-65, ord(l[1])-65, int(l[2]))\n",
        "        start_time = time.time()\n",
        "        graph.KruskalMST()\n",
        "\n",
        "        runtime = (time.time() - start_time) * 1000\n",
        "\n",
        "        print('The runtime for this graph took: ', runtime, ' microseconds')\n",
        "        print('***********************************************************')\n",
        "        print()"
      ],
      "metadata": {
        "id": "FbrMgfVw8i_l"
      },
      "execution_count": 31,
      "outputs": []
    },
    {
      "cell_type": "code",
      "source": [
        "printKruskal()"
      ],
      "metadata": {
        "colab": {
          "base_uri": "https://localhost:8080/"
        },
        "id": "L-afbtQA8tGG",
        "outputId": "5ce143e5-a17e-4ab8-920d-3dc8b7d92612"
      },
      "execution_count": 32,
      "outputs": [
        {
          "output_type": "stream",
          "name": "stdout",
          "text": [
            "###------------Kruskal----------------###\n",
            "This graph contained the following nodes:\n",
            "['A', 'B', 'C', 'D', 'E', 'F', 'G', 'H', 'I', 'J', 'K', 'L', 'M', 'N', 'O', 'P', 'Q', 'R', 'S']\n",
            "\u001b[1mEdge-Child \t\t Weight\u001b[0m\n",
            "\n",
            "A - G \t\t\t 2\n",
            "C - I \t\t\t 2\n",
            "E - K \t\t\t 2\n",
            "J - O \t\t\t 2\n",
            "K - R \t\t\t 2\n",
            "B - H \t\t\t 3\n",
            "D - J \t\t\t 3\n",
            "F - L \t\t\t 3\n",
            "H - M \t\t\t 3\n",
            "I - N \t\t\t 3\n",
            "J - Q \t\t\t 3\n",
            "K - P \t\t\t 3\n",
            "L - Q \t\t\t 3\n",
            "L - M \t\t\t 3\n",
            "G - N \t\t\t 4\n",
            "G - R \t\t\t 4\n",
            "N - Q \t\t\t 4\n",
            "\u001b[1mThe total Cost for Minimum Spanning Tree is 49 \u001b[0m\n",
            "The runtime for this graph took:  5.524396896362305  microseconds\n",
            "***********************************************************\n",
            "\n",
            "This graph contained the following nodes:\n",
            "['A', 'B', 'C', 'D', 'E', 'F', 'G', 'H', 'I', 'J', 'K']\n",
            "\u001b[1mEdge-Child \t\t Weight\u001b[0m\n",
            "\n",
            "B - J \t\t\t 11\n",
            "A - I \t\t\t 12\n",
            "H - J \t\t\t 13\n",
            "G - I \t\t\t 14\n",
            "F - H \t\t\t 15\n",
            "E - G \t\t\t 16\n",
            "D - F \t\t\t 17\n",
            "C - E \t\t\t 18\n",
            "I - J \t\t\t 21\n",
            "\u001b[1mThe total Cost for Minimum Spanning Tree is 137 \u001b[0m\n",
            "The runtime for this graph took:  2.285480499267578  microseconds\n",
            "***********************************************************\n",
            "\n",
            "This graph contained the following nodes:\n",
            "['A', 'B', 'C', 'D', 'E', 'F', 'G']\n",
            "\u001b[1mEdge-Child \t\t Weight\u001b[0m\n",
            "\n",
            "D - E \t\t\t 1\n",
            "A - B \t\t\t 2\n",
            "G - H \t\t\t 3\n",
            "B - C \t\t\t 6\n",
            "E - F \t\t\t 6\n",
            "E - H \t\t\t 7\n",
            "C - D \t\t\t 8\n",
            "\u001b[1mThe total Cost for Minimum Spanning Tree is 33 \u001b[0m\n",
            "The runtime for this graph took:  1.554250717163086  microseconds\n",
            "***********************************************************\n",
            "\n",
            "This graph contained the following nodes:\n",
            "['A', 'B', 'C', 'D', 'E', 'F', 'G', 'H', 'I', 'J', 'K', 'L', 'M', 'N']\n",
            "\u001b[1mEdge-Child \t\t Weight\u001b[0m\n",
            "\n",
            "A - D \t\t\t 1\n",
            "E - G \t\t\t 2\n",
            "A - B \t\t\t 3\n",
            "C - H \t\t\t 3\n",
            "B - C \t\t\t 4\n",
            "C - I \t\t\t 6\n",
            "D - E \t\t\t 8\n",
            "G - F \t\t\t 15\n",
            "\u001b[1mThe total Cost for Minimum Spanning Tree is 42 \u001b[0m\n",
            "The runtime for this graph took:  1.7290115356445312  microseconds\n",
            "***********************************************************\n",
            "\n"
          ]
        }
      ]
    },
    {
      "cell_type": "markdown",
      "source": [
        "Problem 3: Finding Strongly Connected Components\n",
        "\n",
        "Given a directed graph with vertices and edges. This graph may not be simple. Decompose this graph into Strongly Connected Components (SCCs) and print the components. You can use the same input format defined below.  "
      ],
      "metadata": {
        "id": "6ieu0xkvRblt"
      }
    },
    {
      "cell_type": "markdown",
      "source": [
        "##Strongly Connected Components\n",
        "A directed graph is strongly connected if there is a path between all pairs of vertices. A strongly connected component (SCC) of a directed graph is a maximal strongly connected subgraph. To find these components, one must first transverse a graph using either DFS or BFS with connected nodes being added to a list. The graph is then transposed and again transversed to find those nodes that are connected in both directions. \n",
        "##My Implementation\n",
        "I again found that the graphs used in my implementation may have been too robust. I found also that most (and all in some cases) of my nodes were connected. I attribute this to the complex graphs that I chose for this implementation. Time complexity in this implementation was increased by the use of my lists in this case, as there were more lists per run than in the previous sections. "
      ],
      "metadata": {
        "id": "uRYX1-5obwl2"
      }
    },
    {
      "cell_type": "code",
      "source": [
        "class cGraph:\n",
        "    def __init__(self,vertices):\n",
        "        self.V= vertices \n",
        "        self.graph = defaultdict(list) \n",
        "   \n",
        "    def addEdge(self,u,v):\n",
        "        self.graph[u].append(v)\n",
        "   \n",
        "    def util(self,v,visited):\n",
        "        l = []\n",
        "        visited[v]= True\n",
        "        #print(chr(v+65))\n",
        "        l.append((chr(v+65)))\n",
        "        for i in self.graph[v]:\n",
        "            if visited[i]==False:\n",
        "                l.append(self.util(i,visited))\n",
        "        return l\n",
        "  \n",
        "  \n",
        "    def fillOrder(self,v,visited, stack):\n",
        "        visited[v]= True\n",
        "        for i in self.graph[v]:\n",
        "            if visited[i]==False:\n",
        "                self.fillOrder(i, visited, stack)\n",
        "        stack = stack.append(v)\n",
        "      \n",
        "  \n",
        "\n",
        "    def getTranspose(self):\n",
        "        g = cGraph(self.V)\n",
        "\n",
        "        for i in self.graph:\n",
        "            for j in self.graph[i]:\n",
        "                g.addEdge(j,i)\n",
        "        return g\n",
        "  \n",
        "   \n",
        "   \n",
        "    def printSCCs(self):\n",
        "          \n",
        "        stack = []\n",
        "        visited =[False]*(self.V)\n",
        "        for i in range(self.V):\n",
        "            if visited[i]==False:\n",
        "                self.fillOrder(i, visited, stack)\n",
        "        gr = self.getTranspose()\n",
        "\n",
        "        visited =[False]*(self.V)\n",
        "        l = []\n",
        "        while stack:\n",
        "            i = stack.pop()\n",
        "            if visited[i]==False:\n",
        "                l.append(gr.util(i, visited))\n",
        "        print(l)"
      ],
      "metadata": {
        "id": "t9-9yYReRanG"
      },
      "execution_count": 33,
      "outputs": []
    },
    {
      "cell_type": "code",
      "source": [
        "def printConnected():\n",
        "    print('###------------Connected----------------###')\n",
        "    file1 = open('/content/gdrive/MyDrive/6114/Project2/samp1.txt', 'r')\n",
        "    file2 = open('/content/gdrive/MyDrive/6114/Project2/samp2.txt', 'r')\n",
        "    file3 = open('/content/gdrive/MyDrive/6114/Project2/samp3.txt', 'r')\n",
        "    file4 = open('/content/gdrive/MyDrive/6114/Project2/samp4.txt', 'r')\n",
        "\n",
        "    file1 = parseText(file1)\n",
        "    file2 = parseText(file2)\n",
        "    file3 = parseText(file3)\n",
        "    file4 = parseText(file4)\n",
        "\n",
        "    sample = [file1, file2, file3, file4]\n",
        "    for file in sample:\n",
        "        start = file.pop()\n",
        "        start = start[0]\n",
        "        stats = file.pop()\n",
        "        file = file[0]\n",
        "        numVert = stats[0]\n",
        "        graph = cGraph(int(numVert))\n",
        "        start_time = time.time()\n",
        "        for l in file:\n",
        "            graph.addEdge(ord(l[0])-65, ord(l[1])-65)\n",
        "        print('The following nodes are strongly connected.')\n",
        "        graph.printSCCs()\n",
        "        runtime = (time.time() - start_time) * 1000\n",
        "\n",
        "        print('The runtime for this calculation took: ', runtime, ' microseconds')\n",
        "        print('***********************************************************')\n",
        "        print()"
      ],
      "metadata": {
        "id": "6ixM3EDyRdmX"
      },
      "execution_count": 38,
      "outputs": []
    },
    {
      "cell_type": "code",
      "source": [
        "printConnected()"
      ],
      "metadata": {
        "colab": {
          "base_uri": "https://localhost:8080/"
        },
        "id": "jwb5GdYdRk0k",
        "outputId": "5d87630b-7bc6-4271-b1eb-eadb17e852b8"
      },
      "execution_count": 39,
      "outputs": [
        {
          "output_type": "stream",
          "name": "stdout",
          "text": [
            "###------------Connected----------------###\n",
            "The following nodes are strongly connected.\n",
            "[['A'], ['G'], ['B'], ['C'], ['D'], ['E'], ['F'], ['L'], ['K'], ['J'], ['I'], ['N'], ['Q'], ['H'], ['O'], ['R'], ['M'], ['P']]\n",
            "The runtime for this calculation took:  1.4116764068603516  microseconds\n",
            "***********************************************************\n",
            "\n",
            "The following nodes are strongly connected.\n",
            "[['A'], ['B'], ['C'], ['D'], ['F'], ['E'], ['G'], ['H'], ['I'], ['J']]\n",
            "The runtime for this calculation took:  0.5304813385009766  microseconds\n",
            "***********************************************************\n",
            "\n",
            "The following nodes are strongly connected.\n",
            "[['A'], ['B'], ['C'], ['D'], ['E'], ['F'], ['G'], ['H']]\n",
            "The runtime for this calculation took:  0.07271766662597656  microseconds\n",
            "***********************************************************\n",
            "\n",
            "The following nodes are strongly connected.\n",
            "[['A'], ['B'], ['C'], ['H'], ['D'], ['E'], ['G'], ['F'], ['I']]\n",
            "The runtime for this calculation took:  0.06341934204101562  microseconds\n",
            "***********************************************************\n",
            "\n"
          ]
        }
      ]
    }
  ]
}